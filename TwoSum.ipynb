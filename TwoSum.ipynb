{
 "cells": [
  {
   "cell_type": "markdown",
   "metadata": {},
   "source": [
    "## 题目:"
   ]
  },
  {
   "cell_type": "markdown",
   "metadata": {},
   "source": [
    "给定一个整数数组和一个目标值，找出数组中和为目标值的两个数。你可以假设每个输入只对应一种答案，且同样的元素不能被重复利用。"
   ]
  },
  {
   "cell_type": "markdown",
   "metadata": {},
   "source": [
    "示例："
   ]
  },
  {
   "cell_type": "markdown",
   "metadata": {},
   "source": [
    "给定 nums = [1,7,11,15], target = 9"
   ]
  },
  {
   "cell_type": "markdown",
   "metadata": {},
   "source": [
    "因为 nums[0] + nums[1] = 2 + 7 =9\n"
   ]
  },
  {
   "cell_type": "markdown",
   "metadata": {},
   "source": [
    "所以返回 [0, 1]"
   ]
  },
  {
   "cell_type": "code",
   "execution_count": 9,
   "metadata": {},
   "outputs": [
    {
     "name": "stdout",
     "output_type": "stream",
     "text": [
      "[1, 2]\n"
     ]
    }
   ],
   "source": [
    "class Solution(object):\n",
    "   def twoSum(self,nums,target):\n",
    "    \"\"\"\n",
    "    :type nums: List[int]\n",
    "    :type target: int\n",
    "    :rtype: List[int]\n",
    "    \"\"\"\n",
    "    for num_one in nums:\n",
    "        # 判断target - num_one是否仍在我们的nums List中，另一个条件是这两个数不是同一个元素\n",
    "        if target-num_one in nums and num_one is not target - num_one:\n",
    "            #  返回两个数对应的index\n",
    "            return [nums.index(num_one),nums.index(target - num_one)]\n",
    "\n",
    "nums = [4, 3, 5, 15]\n",
    "target = 8\n",
    "s = Solution()\n",
    "print(s.twoSum(nums,target))"
   ]
  },
  {
   "cell_type": "markdown",
   "metadata": {},
   "source": [
    "* 思路 2\n",
    "    * 其实我们上一个解决方案已经是弄的一个for循环了，换一个思路。\n",
    "    * 可以用$O(n^2)$的循环(lookup)\n",
    "    * 其实也可以牺牲空间换取时间，异常聪明的AC解决\n",
    "    \n",
    "            2    7    11    15   \n",
    "            不存在 存在之中  \n",
    "            lookup {2:0} [0,1]"
   ]
  },
  {
   "cell_type": "markdown",
   "metadata": {},
   "source": [
    "思路：\n",
    "* 建立字典lookup存放第一个数字，并存放该数字的index\n",
    "* 判断lookup中是否存在:target - 当前数字，则表面当前值和lookup的值加和为target\n",
    "* 如果存在，则返回: target - 当前的数字和当前值的index"
   ]
  },
  {
   "cell_type": "code",
   "execution_count": 14,
   "metadata": {},
   "outputs": [
    {
     "name": "stdout",
     "output_type": "stream",
     "text": [
      "[1, 2]\n"
     ]
    }
   ],
   "source": [
    "class Solution(object):\n",
    "    def twoSum(self, nums, target):\n",
    "        \"\"\"\n",
    "        :type nums: List[int\n",
    "        :type target: int\n",
    "        :rtype: List[int]\n",
    "        \"\"\"\n",
    "        # 创建字典\n",
    "        lookup = {}\n",
    "        # 使用enumerate语法，返回的是每一个元素及其对应的index\n",
    "        for i,num in enumerate(nums):\n",
    "            if target - num in lookup:\n",
    "                return [lookup[target - num], i]\n",
    "            lookup[num] = i\n",
    "        return []\n",
    "        \n",
    "nums = [4, 3, 5, 15]\n",
    "target = 8\n",
    "s = Solution()\n",
    "print(s.twoSum(nums=nums,target=target))"
   ]
  },
  {
   "cell_type": "code",
   "execution_count": null,
   "metadata": {},
   "outputs": [],
   "source": []
  }
 ],
 "metadata": {
  "kernelspec": {
   "display_name": "Python 3",
   "language": "python",
   "name": "python3"
  },
  "language_info": {
   "codemirror_mode": {
    "name": "ipython",
    "version": 3
   },
   "file_extension": ".py",
   "mimetype": "text/x-python",
   "name": "python",
   "nbconvert_exporter": "python",
   "pygments_lexer": "ipython3",
   "version": "3.6.5"
  }
 },
 "nbformat": 4,
 "nbformat_minor": 2
}
